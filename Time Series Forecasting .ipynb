{
 "cells": [
  {
   "cell_type": "code",
   "execution_count": 1,
   "id": "10af30f0",
   "metadata": {},
   "outputs": [],
   "source": [
    "import numpy as np\n",
    "import pandas as pd\n",
    "import matplotlib.pyplot as plt\n",
    "import statsmodels.api as sms\n",
    "%matplotlib inline"
   ]
  },
  {
   "cell_type": "code",
   "execution_count": 2,
   "id": "5a1f5430",
   "metadata": {},
   "outputs": [],
   "source": [
    "df=pd.read_csv(\"air passangers.csv\",index_col=0)"
   ]
  },
  {
   "cell_type": "code",
   "execution_count": 3,
   "id": "ef79b04d",
   "metadata": {},
   "outputs": [
    {
     "data": {
      "text/html": [
       "<div>\n",
       "<style scoped>\n",
       "    .dataframe tbody tr th:only-of-type {\n",
       "        vertical-align: middle;\n",
       "    }\n",
       "\n",
       "    .dataframe tbody tr th {\n",
       "        vertical-align: top;\n",
       "    }\n",
       "\n",
       "    .dataframe thead th {\n",
       "        text-align: right;\n",
       "    }\n",
       "</style>\n",
       "<table border=\"1\" class=\"dataframe\">\n",
       "  <thead>\n",
       "    <tr style=\"text-align: right;\">\n",
       "      <th></th>\n",
       "      <th>Month</th>\n",
       "      <th>Thousands of Passengers</th>\n",
       "    </tr>\n",
       "  </thead>\n",
       "  <tbody>\n",
       "    <tr>\n",
       "      <th>0</th>\n",
       "      <td>1949-01</td>\n",
       "      <td>112.0</td>\n",
       "    </tr>\n",
       "    <tr>\n",
       "      <th>1</th>\n",
       "      <td>1949-02</td>\n",
       "      <td>118.0</td>\n",
       "    </tr>\n",
       "    <tr>\n",
       "      <th>2</th>\n",
       "      <td>1949-03</td>\n",
       "      <td>132.0</td>\n",
       "    </tr>\n",
       "    <tr>\n",
       "      <th>3</th>\n",
       "      <td>1949-04</td>\n",
       "      <td>129.0</td>\n",
       "    </tr>\n",
       "    <tr>\n",
       "      <th>4</th>\n",
       "      <td>1949-05</td>\n",
       "      <td>121.0</td>\n",
       "    </tr>\n",
       "  </tbody>\n",
       "</table>\n",
       "</div>"
      ],
      "text/plain": [
       "     Month  Thousands of Passengers\n",
       "0  1949-01                    112.0\n",
       "1  1949-02                    118.0\n",
       "2  1949-03                    132.0\n",
       "3  1949-04                    129.0\n",
       "4  1949-05                    121.0"
      ]
     },
     "execution_count": 3,
     "metadata": {},
     "output_type": "execute_result"
    }
   ],
   "source": [
    "df.head()"
   ]
  },
  {
   "cell_type": "code",
   "execution_count": 4,
   "id": "06c6f9e4",
   "metadata": {},
   "outputs": [
    {
     "data": {
      "text/plain": [
       "(145, 2)"
      ]
     },
     "execution_count": 4,
     "metadata": {},
     "output_type": "execute_result"
    }
   ],
   "source": [
    "df.shape"
   ]
  },
  {
   "cell_type": "code",
   "execution_count": 5,
   "id": "88f7b85d",
   "metadata": {},
   "outputs": [
    {
     "data": {
      "text/plain": [
       "Month                      0\n",
       "Thousands of Passengers    1\n",
       "dtype: int64"
      ]
     },
     "execution_count": 5,
     "metadata": {},
     "output_type": "execute_result"
    }
   ],
   "source": [
    "df.isnull().sum()"
   ]
  },
  {
   "cell_type": "code",
   "execution_count": 6,
   "id": "3bce2e2f",
   "metadata": {},
   "outputs": [],
   "source": [
    "df.dropna(axis=0,inplace= True)"
   ]
  },
  {
   "cell_type": "code",
   "execution_count": 7,
   "id": "31b7f49e",
   "metadata": {},
   "outputs": [
    {
     "data": {
      "text/plain": [
       "(144, 2)"
      ]
     },
     "execution_count": 7,
     "metadata": {},
     "output_type": "execute_result"
    }
   ],
   "source": [
    "df.shape"
   ]
  },
  {
   "cell_type": "code",
   "execution_count": 8,
   "id": "f2c394d0",
   "metadata": {},
   "outputs": [
    {
     "name": "stdout",
     "output_type": "stream",
     "text": [
      "<class 'pandas.core.frame.DataFrame'>\n",
      "Int64Index: 144 entries, 0 to 143\n",
      "Data columns (total 2 columns):\n",
      " #   Column                   Non-Null Count  Dtype  \n",
      "---  ------                   --------------  -----  \n",
      " 0   Month                    144 non-null    object \n",
      " 1   Thousands of Passengers  144 non-null    float64\n",
      "dtypes: float64(1), object(1)\n",
      "memory usage: 3.4+ KB\n"
     ]
    }
   ],
   "source": [
    "df.info()"
   ]
  },
  {
   "cell_type": "code",
   "execution_count": 9,
   "id": "ac402cb5",
   "metadata": {},
   "outputs": [],
   "source": [
    "df[\"Month\"]=pd.to_datetime(df[\"Month\"],)"
   ]
  },
  {
   "cell_type": "code",
   "execution_count": 10,
   "id": "d7749945",
   "metadata": {},
   "outputs": [
    {
     "name": "stdout",
     "output_type": "stream",
     "text": [
      "<class 'pandas.core.frame.DataFrame'>\n",
      "Int64Index: 144 entries, 0 to 143\n",
      "Data columns (total 2 columns):\n",
      " #   Column                   Non-Null Count  Dtype         \n",
      "---  ------                   --------------  -----         \n",
      " 0   Month                    144 non-null    datetime64[ns]\n",
      " 1   Thousands of Passengers  144 non-null    float64       \n",
      "dtypes: datetime64[ns](1), float64(1)\n",
      "memory usage: 3.4 KB\n"
     ]
    }
   ],
   "source": [
    "df.info()"
   ]
  },
  {
   "cell_type": "code",
   "execution_count": 11,
   "id": "9384b440",
   "metadata": {},
   "outputs": [
    {
     "data": {
      "text/html": [
       "<div>\n",
       "<style scoped>\n",
       "    .dataframe tbody tr th:only-of-type {\n",
       "        vertical-align: middle;\n",
       "    }\n",
       "\n",
       "    .dataframe tbody tr th {\n",
       "        vertical-align: top;\n",
       "    }\n",
       "\n",
       "    .dataframe thead th {\n",
       "        text-align: right;\n",
       "    }\n",
       "</style>\n",
       "<table border=\"1\" class=\"dataframe\">\n",
       "  <thead>\n",
       "    <tr style=\"text-align: right;\">\n",
       "      <th></th>\n",
       "      <th>Month</th>\n",
       "      <th>Thousands of Passengers</th>\n",
       "    </tr>\n",
       "  </thead>\n",
       "  <tbody>\n",
       "    <tr>\n",
       "      <th>0</th>\n",
       "      <td>1949-01-01</td>\n",
       "      <td>112.0</td>\n",
       "    </tr>\n",
       "    <tr>\n",
       "      <th>1</th>\n",
       "      <td>1949-02-01</td>\n",
       "      <td>118.0</td>\n",
       "    </tr>\n",
       "    <tr>\n",
       "      <th>2</th>\n",
       "      <td>1949-03-01</td>\n",
       "      <td>132.0</td>\n",
       "    </tr>\n",
       "    <tr>\n",
       "      <th>3</th>\n",
       "      <td>1949-04-01</td>\n",
       "      <td>129.0</td>\n",
       "    </tr>\n",
       "    <tr>\n",
       "      <th>4</th>\n",
       "      <td>1949-05-01</td>\n",
       "      <td>121.0</td>\n",
       "    </tr>\n",
       "  </tbody>\n",
       "</table>\n",
       "</div>"
      ],
      "text/plain": [
       "       Month  Thousands of Passengers\n",
       "0 1949-01-01                    112.0\n",
       "1 1949-02-01                    118.0\n",
       "2 1949-03-01                    132.0\n",
       "3 1949-04-01                    129.0\n",
       "4 1949-05-01                    121.0"
      ]
     },
     "execution_count": 11,
     "metadata": {},
     "output_type": "execute_result"
    }
   ],
   "source": [
    "df.head()"
   ]
  },
  {
   "cell_type": "code",
   "execution_count": 12,
   "id": "476d9966",
   "metadata": {},
   "outputs": [],
   "source": [
    "#set month column as index\n",
    "df.set_index('Month',inplace=True)"
   ]
  },
  {
   "cell_type": "code",
   "execution_count": 13,
   "id": "306b989a",
   "metadata": {},
   "outputs": [
    {
     "data": {
      "text/html": [
       "<div>\n",
       "<style scoped>\n",
       "    .dataframe tbody tr th:only-of-type {\n",
       "        vertical-align: middle;\n",
       "    }\n",
       "\n",
       "    .dataframe tbody tr th {\n",
       "        vertical-align: top;\n",
       "    }\n",
       "\n",
       "    .dataframe thead th {\n",
       "        text-align: right;\n",
       "    }\n",
       "</style>\n",
       "<table border=\"1\" class=\"dataframe\">\n",
       "  <thead>\n",
       "    <tr style=\"text-align: right;\">\n",
       "      <th></th>\n",
       "      <th>Thousands of Passengers</th>\n",
       "    </tr>\n",
       "    <tr>\n",
       "      <th>Month</th>\n",
       "      <th></th>\n",
       "    </tr>\n",
       "  </thead>\n",
       "  <tbody>\n",
       "    <tr>\n",
       "      <th>1949-01-01</th>\n",
       "      <td>112.0</td>\n",
       "    </tr>\n",
       "    <tr>\n",
       "      <th>1949-02-01</th>\n",
       "      <td>118.0</td>\n",
       "    </tr>\n",
       "    <tr>\n",
       "      <th>1949-03-01</th>\n",
       "      <td>132.0</td>\n",
       "    </tr>\n",
       "    <tr>\n",
       "      <th>1949-04-01</th>\n",
       "      <td>129.0</td>\n",
       "    </tr>\n",
       "    <tr>\n",
       "      <th>1949-05-01</th>\n",
       "      <td>121.0</td>\n",
       "    </tr>\n",
       "  </tbody>\n",
       "</table>\n",
       "</div>"
      ],
      "text/plain": [
       "            Thousands of Passengers\n",
       "Month                              \n",
       "1949-01-01                    112.0\n",
       "1949-02-01                    118.0\n",
       "1949-03-01                    132.0\n",
       "1949-04-01                    129.0\n",
       "1949-05-01                    121.0"
      ]
     },
     "execution_count": 13,
     "metadata": {},
     "output_type": "execute_result"
    }
   ],
   "source": [
    "df.head()"
   ]
  },
  {
   "cell_type": "code",
   "execution_count": 14,
   "id": "0ad93b84",
   "metadata": {},
   "outputs": [
    {
     "data": {
      "text/plain": [
       "<AxesSubplot: xlabel='Month'>"
      ]
     },
     "execution_count": 14,
     "metadata": {},
     "output_type": "execute_result"
    },
    {
     "data": {
      "image/png": "[encoded data removed]",
      "text/plain": [
       "<Figure size 432x288 with 1 Axes>"
      ]
     },
     "metadata": {
      "needs_background": "light"
     },
     "output_type": "display_data"
    }
   ],
   "source": [
    "df.plot()"
   ]
  },
  {
   "cell_type": "markdown",
   "id": "bf84fa49",
   "metadata": {},
   "source": [
    " **<u> from the plot, it seems that the data is seasonal and has +ve trend.\n",
    "so, data is non-stationary.</u>**"
   ]
  },
  {
   "cell_type": "code",
   "execution_count": null,
   "id": "0cc0a0a5",
   "metadata": {},
   "outputs": [],
   "source": []
  },
  {
   "cell_type": "markdown",
   "id": "2b59624b",
   "metadata": {},
   "source": [
    "### Preprocessing of time series data"
   ]
  },
  {
   "cell_type": "code",
   "execution_count": 15,
   "id": "e4dde478",
   "metadata": {},
   "outputs": [],
   "source": [
    "from statsmodels.tsa.stattools import adfuller"
   ]
  },
  {
   "cell_type": "code",
   "execution_count": 16,
   "id": "ada50ae3",
   "metadata": {},
   "outputs": [],
   "source": [
    "def adf_fuller(series):\n",
    "    result=adfuller(series)      #dickey fuller test\n",
    "    print(f\"adf test statistic : {result[0]}\")\n",
    "    print(f\"p-value : {result[1]}\")\n",
    "    if result[1]<=0.05:\n",
    "        print(\"--rejecting null hypothesis indicating time series data has no unit root and is stationary.\")\n",
    "    else:\n",
    "        print(\"--accepting null hypothesis indicating time series has a unit root and data is non-stationary.\")\n",
    "    "
   ]
  },
  {
   "cell_type": "code",
   "execution_count": 17,
   "id": "022b8012",
   "metadata": {},
   "outputs": [
    {
     "name": "stdout",
     "output_type": "stream",
     "text": [
      "adf test statistic : 0.8153688792060411\n",
      "p-value : 0.9918802434376409\n",
      "--accepting null hypothesis indicating time series has a unit root and data is non-stationary.\n"
     ]
    }
   ],
   "source": [
    "adf_fuller(df[\"Thousands of Passengers\"])"
   ]
  },
  {
   "cell_type": "markdown",
   "id": "e0ef62fa",
   "metadata": {},
   "source": [
    "As we know, data is not stationary, therefore in order to make data stationary, we need to differencing.(shift the data by 1,2,3...until data reaches to stationary.)"
   ]
  },
  {
   "cell_type": "code",
   "execution_count": 18,
   "id": "2f1fecfd",
   "metadata": {},
   "outputs": [],
   "source": [
    "# differencing \n",
    "df[\"1st differenece passengers\"]=df[\"Thousands of Passengers\"]-df[\"Thousands of Passengers\"].shift(1)"
   ]
  },
  {
   "cell_type": "code",
   "execution_count": 19,
   "id": "729f34ed",
   "metadata": {},
   "outputs": [
    {
     "data": {
      "text/html": [
       "<div>\n",
       "<style scoped>\n",
       "    .dataframe tbody tr th:only-of-type {\n",
       "        vertical-align: middle;\n",
       "    }\n",
       "\n",
       "    .dataframe tbody tr th {\n",
       "        vertical-align: top;\n",
       "    }\n",
       "\n",
       "    .dataframe thead th {\n",
       "        text-align: right;\n",
       "    }\n",
       "</style>\n",
       "<table border=\"1\" class=\"dataframe\">\n",
       "  <thead>\n",
       "    <tr style=\"text-align: right;\">\n",
       "      <th></th>\n",
       "      <th>Thousands of Passengers</th>\n",
       "      <th>1st differenece passengers</th>\n",
       "    </tr>\n",
       "    <tr>\n",
       "      <th>Month</th>\n",
       "      <th></th>\n",
       "      <th></th>\n",
       "    </tr>\n",
       "  </thead>\n",
       "  <tbody>\n",
       "    <tr>\n",
       "      <th>1949-01-01</th>\n",
       "      <td>112.0</td>\n",
       "      <td>NaN</td>\n",
       "    </tr>\n",
       "    <tr>\n",
       "      <th>1949-02-01</th>\n",
       "      <td>118.0</td>\n",
       "      <td>6.0</td>\n",
       "    </tr>\n",
       "    <tr>\n",
       "      <th>1949-03-01</th>\n",
       "      <td>132.0</td>\n",
       "      <td>14.0</td>\n",
       "    </tr>\n",
       "    <tr>\n",
       "      <th>1949-04-01</th>\n",
       "      <td>129.0</td>\n",
       "      <td>-3.0</td>\n",
       "    </tr>\n",
       "    <tr>\n",
       "      <th>1949-05-01</th>\n",
       "      <td>121.0</td>\n",
       "      <td>-8.0</td>\n",
       "    </tr>\n",
       "  </tbody>\n",
       "</table>\n",
       "</div>"
      ],
      "text/plain": [
       "            Thousands of Passengers  1st differenece passengers\n",
       "Month                                                          \n",
       "1949-01-01                    112.0                         NaN\n",
       "1949-02-01                    118.0                         6.0\n",
       "1949-03-01                    132.0                        14.0\n",
       "1949-04-01                    129.0                        -3.0\n",
       "1949-05-01                    121.0                        -8.0"
      ]
     },
     "execution_count": 19,
     "metadata": {},
     "output_type": "execute_result"
    }
   ],
   "source": [
    "df.head()"
   ]
  },
  {
   "cell_type": "code",
   "execution_count": 20,
   "id": "6ad4fa34",
   "metadata": {},
   "outputs": [
    {
     "name": "stdout",
     "output_type": "stream",
     "text": [
      "adf test statistic : -2.8292668241699945\n",
      "p-value : 0.05421329028382621\n",
      "--accepting null hypothesis indicating time series has a unit root and data is non-stationary.\n"
     ]
    }
   ],
   "source": [
    "adf_fuller(df[\"1st differenece passengers\"].dropna())"
   ]
  },
  {
   "cell_type": "code",
   "execution_count": 21,
   "id": "7f07b5b8",
   "metadata": {},
   "outputs": [],
   "source": [
    "# differencing \n",
    "df[\"2nd differenece passengers\"]=df[\"1st differenece passengers\"]-df[\"1st differenece passengers\"].shift(1)"
   ]
  },
  {
   "cell_type": "code",
   "execution_count": 22,
   "id": "5eec5be8",
   "metadata": {},
   "outputs": [
    {
     "name": "stdout",
     "output_type": "stream",
     "text": [
      "adf test statistic : -16.384231542468466\n",
      "p-value : 2.732891850014397e-29\n",
      "--rejecting null hypothesis indicating time series data has no unit root and is stationary.\n"
     ]
    }
   ],
   "source": [
    "adf_fuller(df[\"2nd differenece passengers\"].dropna())"
   ]
  },
  {
   "cell_type": "code",
   "execution_count": 23,
   "id": "e6f0f910",
   "metadata": {},
   "outputs": [],
   "source": [
    "# since data is seasonal, therefore also checking stationarity at 12 months.\n",
    "#  since, SARIMAX is better than ARIMA in seasonal data .\n",
    "df[\"12th differenece passengers\"]=df[\"Thousands of Passengers\"]-df[\"Thousands of Passengers\"].shift(12)"
   ]
  },
  {
   "cell_type": "code",
   "execution_count": 24,
   "id": "5d33678f",
   "metadata": {},
   "outputs": [
    {
     "name": "stdout",
     "output_type": "stream",
     "text": [
      "adf test statistic : -3.3830207264924814\n",
      "p-value : 0.011551493085514954\n",
      "--rejecting null hypothesis indicating time series data has no unit root and is stationary.\n"
     ]
    }
   ],
   "source": [
    "adf_fuller(df[\"12th differenece passengers\"].dropna())"
   ]
  },
  {
   "cell_type": "code",
   "execution_count": 25,
   "id": "8b3fc162",
   "metadata": {},
   "outputs": [
    {
     "data": {
      "text/plain": [
       "<AxesSubplot: xlabel='Month'>"
      ]
     },
     "execution_count": 25,
     "metadata": {},
     "output_type": "execute_result"
    },
    {
     "data": {
      "image/png": "[encoded data removed]",
      "text/plain": [
       "<Figure size 432x288 with 1 Axes>"
      ]
     },
     "metadata": {
      "needs_background": "light"
     },
     "output_type": "display_data"
    }
   ],
   "source": [
    "df.plot()"
   ]
  },
  {
   "cell_type": "code",
   "execution_count": 26,
   "id": "8eeac586",
   "metadata": {},
   "outputs": [],
   "source": [
    "from statsmodels.graphics.tsaplots import plot_acf,plot_pacf"
   ]
  },
  {
   "cell_type": "code",
   "execution_count": 27,
   "id": "d00a8256",
   "metadata": {
    "scrolled": true
   },
   "outputs": [
    {
     "data": {
      "image/png": "[encoded data removed]",
      "text/plain": [
       "<Figure size 432x288 with 1 Axes>"
      ]
     },
     "metadata": {
      "needs_background": "light"
     },
     "output_type": "display_data"
    }
   ],
   "source": [
    "acf2=plot_acf(df[\"2nd differenece passengers\"].dropna())"
   ]
  },
  {
   "cell_type": "markdown",
   "id": "df5a6058",
   "metadata": {},
   "source": [
    "Here, we can see seasonality."
   ]
  },
  {
   "cell_type": "code",
   "execution_count": 28,
   "id": "0547b2e4",
   "metadata": {},
   "outputs": [
    {
     "data": {
      "image/png": "[encoded data removed]",
      "text/plain": [
       "<Figure size 432x288 with 1 Axes>"
      ]
     },
     "metadata": {
      "needs_background": "light"
     },
     "output_type": "display_data"
    }
   ],
   "source": [
    "acf12=plot_acf(df[\"12th differenece passengers\"].dropna())"
   ]
  },
  {
   "cell_type": "markdown",
   "id": "3997ff7a",
   "metadata": {},
   "source": [
    "q=5"
   ]
  },
  {
   "cell_type": "code",
   "execution_count": 29,
   "id": "6eab19b9",
   "metadata": {},
   "outputs": [
    {
     "name": "stderr",
     "output_type": "stream",
     "text": [
      "C:\\Users\\tp220\\anaconda3\\lib\\site-packages\\statsmodels\\graphics\\tsaplots.py:348: FutureWarning: The default method 'yw' can produce PACF values outside of the [-1,1] interval. After 0.13, the default will change tounadjusted Yule-Walker ('ywm'). You can use this method now by setting method='ywm'.\n",
      "  warnings.warn(\n"
     ]
    },
    {
     "data": {
      "image/png": "[encoded data removed]",
      "text/plain": [
       "<Figure size 432x288 with 1 Axes>"
      ]
     },
     "metadata": {
      "needs_background": "light"
     },
     "output_type": "display_data"
    }
   ],
   "source": [
    "pacf2=plot_pacf(df[\"2nd differenece passengers\"].dropna())"
   ]
  },
  {
   "cell_type": "code",
   "execution_count": 30,
   "id": "47bcb995",
   "metadata": {},
   "outputs": [
    {
     "data": {
      "image/png": "[encoded data removed]",
      "text/plain": [
       "<Figure size 432x288 with 1 Axes>"
      ]
     },
     "metadata": {
      "needs_background": "light"
     },
     "output_type": "display_data"
    }
   ],
   "source": [
    "pacf12=plot_pacf(df[\"12th differenece passengers\"].dropna())"
   ]
  },
  {
   "cell_type": "markdown",
   "id": "e6bbfd8c",
   "metadata": {},
   "source": [
    "p=2, p=10   ,check with both"
   ]
  },
  {
   "cell_type": "markdown",
   "id": "65e3ac83",
   "metadata": {},
   "source": [
    "acf value (q) for MA and pacf value(p) FOR AR  and d is differenicing value (integration)"
   ]
  },
  {
   "cell_type": "markdown",
   "id": "a7fb2a8c",
   "metadata": {},
   "source": [
    "### Train test split"
   ]
  },
  {
   "cell_type": "code",
   "execution_count": 31,
   "id": "a34e0a40",
   "metadata": {},
   "outputs": [],
   "source": [
    "from datetime import datetime,timedelta\n",
    "train_data_end=datetime(1955,12,1)\n",
    "test_data_end=datetime(1960,12,1)"
   ]
  },
  {
   "cell_type": "code",
   "execution_count": 32,
   "id": "ec616469",
   "metadata": {},
   "outputs": [],
   "source": [
    "train_data=df[:train_data_end]\n",
    "test_data=df[train_data_end+timedelta(days=1):test_data_end]"
   ]
  },
  {
   "cell_type": "code",
   "execution_count": 33,
   "id": "f8f57f1e",
   "metadata": {},
   "outputs": [],
   "source": [
    "# prediction\n",
    "pred_start_date=test_data.index[0]\n",
    "pred_end_date=test_data.index[-1]"
   ]
  },
  {
   "cell_type": "code",
   "execution_count": 34,
   "id": "72cc4409",
   "metadata": {},
   "outputs": [
    {
     "data": {
      "text/html": [
       "<div>\n",
       "<style scoped>\n",
       "    .dataframe tbody tr th:only-of-type {\n",
       "        vertical-align: middle;\n",
       "    }\n",
       "\n",
       "    .dataframe tbody tr th {\n",
       "        vertical-align: top;\n",
       "    }\n",
       "\n",
       "    .dataframe thead th {\n",
       "        text-align: right;\n",
       "    }\n",
       "</style>\n",
       "<table border=\"1\" class=\"dataframe\">\n",
       "  <thead>\n",
       "    <tr style=\"text-align: right;\">\n",
       "      <th></th>\n",
       "      <th>Thousands of Passengers</th>\n",
       "      <th>1st differenece passengers</th>\n",
       "      <th>2nd differenece passengers</th>\n",
       "      <th>12th differenece passengers</th>\n",
       "    </tr>\n",
       "    <tr>\n",
       "      <th>Month</th>\n",
       "      <th></th>\n",
       "      <th></th>\n",
       "      <th></th>\n",
       "      <th></th>\n",
       "    </tr>\n",
       "  </thead>\n",
       "  <tbody>\n",
       "    <tr>\n",
       "      <th>1956-01-01</th>\n",
       "      <td>284.0</td>\n",
       "      <td>6.0</td>\n",
       "      <td>-35.0</td>\n",
       "      <td>42.0</td>\n",
       "    </tr>\n",
       "    <tr>\n",
       "      <th>1956-02-01</th>\n",
       "      <td>277.0</td>\n",
       "      <td>-7.0</td>\n",
       "      <td>-13.0</td>\n",
       "      <td>44.0</td>\n",
       "    </tr>\n",
       "    <tr>\n",
       "      <th>1956-03-01</th>\n",
       "      <td>317.0</td>\n",
       "      <td>40.0</td>\n",
       "      <td>47.0</td>\n",
       "      <td>50.0</td>\n",
       "    </tr>\n",
       "    <tr>\n",
       "      <th>1956-04-01</th>\n",
       "      <td>313.0</td>\n",
       "      <td>-4.0</td>\n",
       "      <td>-44.0</td>\n",
       "      <td>44.0</td>\n",
       "    </tr>\n",
       "    <tr>\n",
       "      <th>1956-05-01</th>\n",
       "      <td>318.0</td>\n",
       "      <td>5.0</td>\n",
       "      <td>9.0</td>\n",
       "      <td>48.0</td>\n",
       "    </tr>\n",
       "    <tr>\n",
       "      <th>1956-06-01</th>\n",
       "      <td>374.0</td>\n",
       "      <td>56.0</td>\n",
       "      <td>51.0</td>\n",
       "      <td>59.0</td>\n",
       "    </tr>\n",
       "    <tr>\n",
       "      <th>1956-07-01</th>\n",
       "      <td>413.0</td>\n",
       "      <td>39.0</td>\n",
       "      <td>-17.0</td>\n",
       "      <td>49.0</td>\n",
       "    </tr>\n",
       "    <tr>\n",
       "      <th>1956-08-01</th>\n",
       "      <td>405.0</td>\n",
       "      <td>-8.0</td>\n",
       "      <td>-47.0</td>\n",
       "      <td>58.0</td>\n",
       "    </tr>\n",
       "    <tr>\n",
       "      <th>1956-09-01</th>\n",
       "      <td>355.0</td>\n",
       "      <td>-50.0</td>\n",
       "      <td>-42.0</td>\n",
       "      <td>43.0</td>\n",
       "    </tr>\n",
       "    <tr>\n",
       "      <th>1956-10-01</th>\n",
       "      <td>306.0</td>\n",
       "      <td>-49.0</td>\n",
       "      <td>1.0</td>\n",
       "      <td>32.0</td>\n",
       "    </tr>\n",
       "    <tr>\n",
       "      <th>1956-11-01</th>\n",
       "      <td>271.0</td>\n",
       "      <td>-35.0</td>\n",
       "      <td>14.0</td>\n",
       "      <td>34.0</td>\n",
       "    </tr>\n",
       "    <tr>\n",
       "      <th>1956-12-01</th>\n",
       "      <td>306.0</td>\n",
       "      <td>35.0</td>\n",
       "      <td>70.0</td>\n",
       "      <td>28.0</td>\n",
       "    </tr>\n",
       "    <tr>\n",
       "      <th>1957-01-01</th>\n",
       "      <td>315.0</td>\n",
       "      <td>9.0</td>\n",
       "      <td>-26.0</td>\n",
       "      <td>31.0</td>\n",
       "    </tr>\n",
       "    <tr>\n",
       "      <th>1957-02-01</th>\n",
       "      <td>301.0</td>\n",
       "      <td>-14.0</td>\n",
       "      <td>-23.0</td>\n",
       "      <td>24.0</td>\n",
       "    </tr>\n",
       "    <tr>\n",
       "      <th>1957-03-01</th>\n",
       "      <td>356.0</td>\n",
       "      <td>55.0</td>\n",
       "      <td>69.0</td>\n",
       "      <td>39.0</td>\n",
       "    </tr>\n",
       "    <tr>\n",
       "      <th>1957-04-01</th>\n",
       "      <td>348.0</td>\n",
       "      <td>-8.0</td>\n",
       "      <td>-63.0</td>\n",
       "      <td>35.0</td>\n",
       "    </tr>\n",
       "    <tr>\n",
       "      <th>1957-05-01</th>\n",
       "      <td>355.0</td>\n",
       "      <td>7.0</td>\n",
       "      <td>15.0</td>\n",
       "      <td>37.0</td>\n",
       "    </tr>\n",
       "    <tr>\n",
       "      <th>1957-06-01</th>\n",
       "      <td>422.0</td>\n",
       "      <td>67.0</td>\n",
       "      <td>60.0</td>\n",
       "      <td>48.0</td>\n",
       "    </tr>\n",
       "    <tr>\n",
       "      <th>1957-07-01</th>\n",
       "      <td>465.0</td>\n",
       "      <td>43.0</td>\n",
       "      <td>-24.0</td>\n",
       "      <td>52.0</td>\n",
       "    </tr>\n",
       "    <tr>\n",
       "      <th>1957-08-01</th>\n",
       "      <td>467.0</td>\n",
       "      <td>2.0</td>\n",
       "      <td>-41.0</td>\n",
       "      <td>62.0</td>\n",
       "    </tr>\n",
       "    <tr>\n",
       "      <th>1957-09-01</th>\n",
       "      <td>404.0</td>\n",
       "      <td>-63.0</td>\n",
       "      <td>-65.0</td>\n",
       "      <td>49.0</td>\n",
       "    </tr>\n",
       "    <tr>\n",
       "      <th>1957-10-01</th>\n",
       "      <td>347.0</td>\n",
       "      <td>-57.0</td>\n",
       "      <td>6.0</td>\n",
       "      <td>41.0</td>\n",
       "    </tr>\n",
       "    <tr>\n",
       "      <th>1957-11-01</th>\n",
       "      <td>305.0</td>\n",
       "      <td>-42.0</td>\n",
       "      <td>15.0</td>\n",
       "      <td>34.0</td>\n",
       "    </tr>\n",
       "    <tr>\n",
       "      <th>1957-12-01</th>\n",
       "      <td>336.0</td>\n",
       "      <td>31.0</td>\n",
       "      <td>73.0</td>\n",
       "      <td>30.0</td>\n",
       "    </tr>\n",
       "    <tr>\n",
       "      <th>1958-01-01</th>\n",
       "      <td>340.0</td>\n",
       "      <td>4.0</td>\n",
       "      <td>-27.0</td>\n",
       "      <td>25.0</td>\n",
       "    </tr>\n",
       "    <tr>\n",
       "      <th>1958-02-01</th>\n",
       "      <td>318.0</td>\n",
       "      <td>-22.0</td>\n",
       "      <td>-26.0</td>\n",
       "      <td>17.0</td>\n",
       "    </tr>\n",
       "    <tr>\n",
       "      <th>1958-03-01</th>\n",
       "      <td>362.0</td>\n",
       "      <td>44.0</td>\n",
       "      <td>66.0</td>\n",
       "      <td>6.0</td>\n",
       "    </tr>\n",
       "    <tr>\n",
       "      <th>1958-04-01</th>\n",
       "      <td>348.0</td>\n",
       "      <td>-14.0</td>\n",
       "      <td>-58.0</td>\n",
       "      <td>0.0</td>\n",
       "    </tr>\n",
       "    <tr>\n",
       "      <th>1958-05-01</th>\n",
       "      <td>363.0</td>\n",
       "      <td>15.0</td>\n",
       "      <td>29.0</td>\n",
       "      <td>8.0</td>\n",
       "    </tr>\n",
       "    <tr>\n",
       "      <th>1958-06-01</th>\n",
       "      <td>435.0</td>\n",
       "      <td>72.0</td>\n",
       "      <td>57.0</td>\n",
       "      <td>13.0</td>\n",
       "    </tr>\n",
       "    <tr>\n",
       "      <th>1958-07-01</th>\n",
       "      <td>491.0</td>\n",
       "      <td>56.0</td>\n",
       "      <td>-16.0</td>\n",
       "      <td>26.0</td>\n",
       "    </tr>\n",
       "    <tr>\n",
       "      <th>1958-08-01</th>\n",
       "      <td>505.0</td>\n",
       "      <td>14.0</td>\n",
       "      <td>-42.0</td>\n",
       "      <td>38.0</td>\n",
       "    </tr>\n",
       "    <tr>\n",
       "      <th>1958-09-01</th>\n",
       "      <td>404.0</td>\n",
       "      <td>-101.0</td>\n",
       "      <td>-115.0</td>\n",
       "      <td>0.0</td>\n",
       "    </tr>\n",
       "    <tr>\n",
       "      <th>1958-10-01</th>\n",
       "      <td>359.0</td>\n",
       "      <td>-45.0</td>\n",
       "      <td>56.0</td>\n",
       "      <td>12.0</td>\n",
       "    </tr>\n",
       "    <tr>\n",
       "      <th>1958-11-01</th>\n",
       "      <td>310.0</td>\n",
       "      <td>-49.0</td>\n",
       "      <td>-4.0</td>\n",
       "      <td>5.0</td>\n",
       "    </tr>\n",
       "    <tr>\n",
       "      <th>1958-12-01</th>\n",
       "      <td>337.0</td>\n",
       "      <td>27.0</td>\n",
       "      <td>76.0</td>\n",
       "      <td>1.0</td>\n",
       "    </tr>\n",
       "    <tr>\n",
       "      <th>1959-01-01</th>\n",
       "      <td>360.0</td>\n",
       "      <td>23.0</td>\n",
       "      <td>-4.0</td>\n",
       "      <td>20.0</td>\n",
       "    </tr>\n",
       "    <tr>\n",
       "      <th>1959-02-01</th>\n",
       "      <td>342.0</td>\n",
       "      <td>-18.0</td>\n",
       "      <td>-41.0</td>\n",
       "      <td>24.0</td>\n",
       "    </tr>\n",
       "    <tr>\n",
       "      <th>1959-03-01</th>\n",
       "      <td>406.0</td>\n",
       "      <td>64.0</td>\n",
       "      <td>82.0</td>\n",
       "      <td>44.0</td>\n",
       "    </tr>\n",
       "    <tr>\n",
       "      <th>1959-04-01</th>\n",
       "      <td>396.0</td>\n",
       "      <td>-10.0</td>\n",
       "      <td>-74.0</td>\n",
       "      <td>48.0</td>\n",
       "    </tr>\n",
       "    <tr>\n",
       "      <th>1959-05-01</th>\n",
       "      <td>420.0</td>\n",
       "      <td>24.0</td>\n",
       "      <td>34.0</td>\n",
       "      <td>57.0</td>\n",
       "    </tr>\n",
       "    <tr>\n",
       "      <th>1959-06-01</th>\n",
       "      <td>472.0</td>\n",
       "      <td>52.0</td>\n",
       "      <td>28.0</td>\n",
       "      <td>37.0</td>\n",
       "    </tr>\n",
       "    <tr>\n",
       "      <th>1959-07-01</th>\n",
       "      <td>548.0</td>\n",
       "      <td>76.0</td>\n",
       "      <td>24.0</td>\n",
       "      <td>57.0</td>\n",
       "    </tr>\n",
       "    <tr>\n",
       "      <th>1959-08-01</th>\n",
       "      <td>559.0</td>\n",
       "      <td>11.0</td>\n",
       "      <td>-65.0</td>\n",
       "      <td>54.0</td>\n",
       "    </tr>\n",
       "    <tr>\n",
       "      <th>1959-09-01</th>\n",
       "      <td>463.0</td>\n",
       "      <td>-96.0</td>\n",
       "      <td>-107.0</td>\n",
       "      <td>59.0</td>\n",
       "    </tr>\n",
       "    <tr>\n",
       "      <th>1959-10-01</th>\n",
       "      <td>407.0</td>\n",
       "      <td>-56.0</td>\n",
       "      <td>40.0</td>\n",
       "      <td>48.0</td>\n",
       "    </tr>\n",
       "    <tr>\n",
       "      <th>1959-11-01</th>\n",
       "      <td>362.0</td>\n",
       "      <td>-45.0</td>\n",
       "      <td>11.0</td>\n",
       "      <td>52.0</td>\n",
       "    </tr>\n",
       "    <tr>\n",
       "      <th>1959-12-01</th>\n",
       "      <td>405.0</td>\n",
       "      <td>43.0</td>\n",
       "      <td>88.0</td>\n",
       "      <td>68.0</td>\n",
       "    </tr>\n",
       "    <tr>\n",
       "      <th>1960-01-01</th>\n",
       "      <td>417.0</td>\n",
       "      <td>12.0</td>\n",
       "      <td>-31.0</td>\n",
       "      <td>57.0</td>\n",
       "    </tr>\n",
       "    <tr>\n",
       "      <th>1960-02-01</th>\n",
       "      <td>391.0</td>\n",
       "      <td>-26.0</td>\n",
       "      <td>-38.0</td>\n",
       "      <td>49.0</td>\n",
       "    </tr>\n",
       "    <tr>\n",
       "      <th>1960-03-01</th>\n",
       "      <td>419.0</td>\n",
       "      <td>28.0</td>\n",
       "      <td>54.0</td>\n",
       "      <td>13.0</td>\n",
       "    </tr>\n",
       "    <tr>\n",
       "      <th>1960-04-01</th>\n",
       "      <td>461.0</td>\n",
       "      <td>42.0</td>\n",
       "      <td>14.0</td>\n",
       "      <td>65.0</td>\n",
       "    </tr>\n",
       "    <tr>\n",
       "      <th>1960-05-01</th>\n",
       "      <td>472.0</td>\n",
       "      <td>11.0</td>\n",
       "      <td>-31.0</td>\n",
       "      <td>52.0</td>\n",
       "    </tr>\n",
       "    <tr>\n",
       "      <th>1960-06-01</th>\n",
       "      <td>535.0</td>\n",
       "      <td>63.0</td>\n",
       "      <td>52.0</td>\n",
       "      <td>63.0</td>\n",
       "    </tr>\n",
       "    <tr>\n",
       "      <th>1960-07-01</th>\n",
       "      <td>622.0</td>\n",
       "      <td>87.0</td>\n",
       "      <td>24.0</td>\n",
       "      <td>74.0</td>\n",
       "    </tr>\n",
       "    <tr>\n",
       "      <th>1960-08-01</th>\n",
       "      <td>606.0</td>\n",
       "      <td>-16.0</td>\n",
       "      <td>-103.0</td>\n",
       "      <td>47.0</td>\n",
       "    </tr>\n",
       "    <tr>\n",
       "      <th>1960-09-01</th>\n",
       "      <td>508.0</td>\n",
       "      <td>-98.0</td>\n",
       "      <td>-82.0</td>\n",
       "      <td>45.0</td>\n",
       "    </tr>\n",
       "    <tr>\n",
       "      <th>1960-10-01</th>\n",
       "      <td>461.0</td>\n",
       "      <td>-47.0</td>\n",
       "      <td>51.0</td>\n",
       "      <td>54.0</td>\n",
       "    </tr>\n",
       "    <tr>\n",
       "      <th>1960-11-01</th>\n",
       "      <td>390.0</td>\n",
       "      <td>-71.0</td>\n",
       "      <td>-24.0</td>\n",
       "      <td>28.0</td>\n",
       "    </tr>\n",
       "    <tr>\n",
       "      <th>1960-12-01</th>\n",
       "      <td>432.0</td>\n",
       "      <td>42.0</td>\n",
       "      <td>113.0</td>\n",
       "      <td>27.0</td>\n",
       "    </tr>\n",
       "  </tbody>\n",
       "</table>\n",
       "</div>"
      ],
      "text/plain": [
       "            Thousands of Passengers  1st differenece passengers  \\\n",
       "Month                                                             \n",
       "1956-01-01                    284.0                         6.0   \n",
       "1956-02-01                    277.0                        -7.0   \n",
       "1956-03-01                    317.0                        40.0   \n",
       "1956-04-01                    313.0                        -4.0   \n",
       "1956-05-01                    318.0                         5.0   \n",
       "1956-06-01                    374.0                        56.0   \n",
       "1956-07-01                    413.0                        39.0   \n",
       "1956-08-01                    405.0                        -8.0   \n",
       "1956-09-01                    355.0                       -50.0   \n",
       "1956-10-01                    306.0                       -49.0   \n",
       "1956-11-01                    271.0                       -35.0   \n",
       "1956-12-01                    306.0                        35.0   \n",
       "1957-01-01                    315.0                         9.0   \n",
       "1957-02-01                    301.0                       -14.0   \n",
       "1957-03-01                    356.0                        55.0   \n",
       "1957-04-01                    348.0                        -8.0   \n",
       "1957-05-01                    355.0                         7.0   \n",
       "1957-06-01                    422.0                        67.0   \n",
       "1957-07-01                    465.0                        43.0   \n",
       "1957-08-01                    467.0                         2.0   \n",
       "1957-09-01                    404.0                       -63.0   \n",
       "1957-10-01                    347.0                       -57.0   \n",
       "1957-11-01                    305.0                       -42.0   \n",
       "1957-12-01                    336.0                        31.0   \n",
       "1958-01-01                    340.0                         4.0   \n",
       "1958-02-01                    318.0                       -22.0   \n",
       "1958-03-01                    362.0                        44.0   \n",
       "1958-04-01                    348.0                       -14.0   \n",
       "1958-05-01                    363.0                        15.0   \n",
       "1958-06-01                    435.0                        72.0   \n",
       "1958-07-01                    491.0                        56.0   \n",
       "1958-08-01                    505.0                        14.0   \n",
       "1958-09-01                    404.0                      -101.0   \n",
       "1958-10-01                    359.0                       -45.0   \n",
       "1958-11-01                    310.0                       -49.0   \n",
       "1958-12-01                    337.0                        27.0   \n",
       "1959-01-01                    360.0                        23.0   \n",
       "1959-02-01                    342.0                       -18.0   \n",
       "1959-03-01                    406.0                        64.0   \n",
       "1959-04-01                    396.0                       -10.0   \n",
       "1959-05-01                    420.0                        24.0   \n",
       "1959-06-01                    472.0                        52.0   \n",
       "1959-07-01                    548.0                        76.0   \n",
       "1959-08-01                    559.0                        11.0   \n",
       "1959-09-01                    463.0                       -96.0   \n",
       "1959-10-01                    407.0                       -56.0   \n",
       "1959-11-01                    362.0                       -45.0   \n",
       "1959-12-01                    405.0                        43.0   \n",
       "1960-01-01                    417.0                        12.0   \n",
       "1960-02-01                    391.0                       -26.0   \n",
       "1960-03-01                    419.0                        28.0   \n",
       "1960-04-01                    461.0                        42.0   \n",
       "1960-05-01                    472.0                        11.0   \n",
       "1960-06-01                    535.0                        63.0   \n",
       "1960-07-01                    622.0                        87.0   \n",
       "1960-08-01                    606.0                       -16.0   \n",
       "1960-09-01                    508.0                       -98.0   \n",
       "1960-10-01                    461.0                       -47.0   \n",
       "1960-11-01                    390.0                       -71.0   \n",
       "1960-12-01                    432.0                        42.0   \n",
       "\n",
       "            2nd differenece passengers  12th differenece passengers  \n",
       "Month                                                                \n",
       "1956-01-01                       -35.0                         42.0  \n",
       "1956-02-01                       -13.0                         44.0  \n",
       "1956-03-01                        47.0                         50.0  \n",
       "1956-04-01                       -44.0                         44.0  \n",
       "1956-05-01                         9.0                         48.0  \n",
       "1956-06-01                        51.0                         59.0  \n",
       "1956-07-01                       -17.0                         49.0  \n",
       "1956-08-01                       -47.0                         58.0  \n",
       "1956-09-01                       -42.0                         43.0  \n",
       "1956-10-01                         1.0                         32.0  \n",
       "1956-11-01                        14.0                         34.0  \n",
       "1956-12-01                        70.0                         28.0  \n",
       "1957-01-01                       -26.0                         31.0  \n",
       "1957-02-01                       -23.0                         24.0  \n",
       "1957-03-01                        69.0                         39.0  \n",
       "1957-04-01                       -63.0                         35.0  \n",
       "1957-05-01                        15.0                         37.0  \n",
       "1957-06-01                        60.0                         48.0  \n",
       "1957-07-01                       -24.0                         52.0  \n",
       "1957-08-01                       -41.0                         62.0  \n",
       "1957-09-01                       -65.0                         49.0  \n",
       "1957-10-01                         6.0                         41.0  \n",
       "1957-11-01                        15.0                         34.0  \n",
       "1957-12-01                        73.0                         30.0  \n",
       "1958-01-01                       -27.0                         25.0  \n",
       "1958-02-01                       -26.0                         17.0  \n",
       "1958-03-01                        66.0                          6.0  \n",
       "1958-04-01                       -58.0                          0.0  \n",
       "1958-05-01                        29.0                          8.0  \n",
       "1958-06-01                        57.0                         13.0  \n",
       "1958-07-01                       -16.0                         26.0  \n",
       "1958-08-01                       -42.0                         38.0  \n",
       "1958-09-01                      -115.0                          0.0  \n",
       "1958-10-01                        56.0                         12.0  \n",
       "1958-11-01                        -4.0                          5.0  \n",
       "1958-12-01                        76.0                          1.0  \n",
       "1959-01-01                        -4.0                         20.0  \n",
       "1959-02-01                       -41.0                         24.0  \n",
       "1959-03-01                        82.0                         44.0  \n",
       "1959-04-01                       -74.0                         48.0  \n",
       "1959-05-01                        34.0                         57.0  \n",
       "1959-06-01                        28.0                         37.0  \n",
       "1959-07-01                        24.0                         57.0  \n",
       "1959-08-01                       -65.0                         54.0  \n",
       "1959-09-01                      -107.0                         59.0  \n",
       "1959-10-01                        40.0                         48.0  \n",
       "1959-11-01                        11.0                         52.0  \n",
       "1959-12-01                        88.0                         68.0  \n",
       "1960-01-01                       -31.0                         57.0  \n",
       "1960-02-01                       -38.0                         49.0  \n",
       "1960-03-01                        54.0                         13.0  \n",
       "1960-04-01                        14.0                         65.0  \n",
       "1960-05-01                       -31.0                         52.0  \n",
       "1960-06-01                        52.0                         63.0  \n",
       "1960-07-01                        24.0                         74.0  \n",
       "1960-08-01                      -103.0                         47.0  \n",
       "1960-09-01                       -82.0                         45.0  \n",
       "1960-10-01                        51.0                         54.0  \n",
       "1960-11-01                       -24.0                         28.0  \n",
       "1960-12-01                       113.0                         27.0  "
      ]
     },
     "execution_count": 34,
     "metadata": {},
     "output_type": "execute_result"
    }
   ],
   "source": [
    "test_data"
   ]
  },
  {
   "cell_type": "code",
   "execution_count": 35,
   "id": "a9f4f991",
   "metadata": {},
   "outputs": [],
   "source": [
    "from statsmodels.tsa.arima.model import ARIMA"
   ]
  },
  {
   "cell_type": "code",
   "execution_count": 36,
   "id": "68fdd44e",
   "metadata": {},
   "outputs": [
    {
     "data": {
      "text/html": [
       "<div>\n",
       "<style scoped>\n",
       "    .dataframe tbody tr th:only-of-type {\n",
       "        vertical-align: middle;\n",
       "    }\n",
       "\n",
       "    .dataframe tbody tr th {\n",
       "        vertical-align: top;\n",
       "    }\n",
       "\n",
       "    .dataframe thead th {\n",
       "        text-align: right;\n",
       "    }\n",
       "</style>\n",
       "<table border=\"1\" class=\"dataframe\">\n",
       "  <thead>\n",
       "    <tr style=\"text-align: right;\">\n",
       "      <th></th>\n",
       "      <th>Thousands of Passengers</th>\n",
       "      <th>1st differenece passengers</th>\n",
       "      <th>2nd differenece passengers</th>\n",
       "      <th>12th differenece passengers</th>\n",
       "    </tr>\n",
       "    <tr>\n",
       "      <th>Month</th>\n",
       "      <th></th>\n",
       "      <th></th>\n",
       "      <th></th>\n",
       "      <th></th>\n",
       "    </tr>\n",
       "  </thead>\n",
       "  <tbody>\n",
       "    <tr>\n",
       "      <th>1949-01-01</th>\n",
       "      <td>112.0</td>\n",
       "      <td>NaN</td>\n",
       "      <td>NaN</td>\n",
       "      <td>NaN</td>\n",
       "    </tr>\n",
       "    <tr>\n",
       "      <th>1949-02-01</th>\n",
       "      <td>118.0</td>\n",
       "      <td>6.0</td>\n",
       "      <td>NaN</td>\n",
       "      <td>NaN</td>\n",
       "    </tr>\n",
       "    <tr>\n",
       "      <th>1949-03-01</th>\n",
       "      <td>132.0</td>\n",
       "      <td>14.0</td>\n",
       "      <td>8.0</td>\n",
       "      <td>NaN</td>\n",
       "    </tr>\n",
       "    <tr>\n",
       "      <th>1949-04-01</th>\n",
       "      <td>129.0</td>\n",
       "      <td>-3.0</td>\n",
       "      <td>-17.0</td>\n",
       "      <td>NaN</td>\n",
       "    </tr>\n",
       "    <tr>\n",
       "      <th>1949-05-01</th>\n",
       "      <td>121.0</td>\n",
       "      <td>-8.0</td>\n",
       "      <td>-5.0</td>\n",
       "      <td>NaN</td>\n",
       "    </tr>\n",
       "    <tr>\n",
       "      <th>...</th>\n",
       "      <td>...</td>\n",
       "      <td>...</td>\n",
       "      <td>...</td>\n",
       "      <td>...</td>\n",
       "    </tr>\n",
       "    <tr>\n",
       "      <th>1955-08-01</th>\n",
       "      <td>347.0</td>\n",
       "      <td>-17.0</td>\n",
       "      <td>-66.0</td>\n",
       "      <td>54.0</td>\n",
       "    </tr>\n",
       "    <tr>\n",
       "      <th>1955-09-01</th>\n",
       "      <td>312.0</td>\n",
       "      <td>-35.0</td>\n",
       "      <td>-18.0</td>\n",
       "      <td>53.0</td>\n",
       "    </tr>\n",
       "    <tr>\n",
       "      <th>1955-10-01</th>\n",
       "      <td>274.0</td>\n",
       "      <td>-38.0</td>\n",
       "      <td>-3.0</td>\n",
       "      <td>45.0</td>\n",
       "    </tr>\n",
       "    <tr>\n",
       "      <th>1955-11-01</th>\n",
       "      <td>237.0</td>\n",
       "      <td>-37.0</td>\n",
       "      <td>1.0</td>\n",
       "      <td>34.0</td>\n",
       "    </tr>\n",
       "    <tr>\n",
       "      <th>1955-12-01</th>\n",
       "      <td>278.0</td>\n",
       "      <td>41.0</td>\n",
       "      <td>78.0</td>\n",
       "      <td>49.0</td>\n",
       "    </tr>\n",
       "  </tbody>\n",
       "</table>\n",
       "<p>84 rows × 4 columns</p>\n",
       "</div>"
      ],
      "text/plain": [
       "            Thousands of Passengers  1st differenece passengers  \\\n",
       "Month                                                             \n",
       "1949-01-01                    112.0                         NaN   \n",
       "1949-02-01                    118.0                         6.0   \n",
       "1949-03-01                    132.0                        14.0   \n",
       "1949-04-01                    129.0                        -3.0   \n",
       "1949-05-01                    121.0                        -8.0   \n",
       "...                             ...                         ...   \n",
       "1955-08-01                    347.0                       -17.0   \n",
       "1955-09-01                    312.0                       -35.0   \n",
       "1955-10-01                    274.0                       -38.0   \n",
       "1955-11-01                    237.0                       -37.0   \n",
       "1955-12-01                    278.0                        41.0   \n",
       "\n",
       "            2nd differenece passengers  12th differenece passengers  \n",
       "Month                                                                \n",
       "1949-01-01                         NaN                          NaN  \n",
       "1949-02-01                         NaN                          NaN  \n",
       "1949-03-01                         8.0                          NaN  \n",
       "1949-04-01                       -17.0                          NaN  \n",
       "1949-05-01                        -5.0                          NaN  \n",
       "...                                ...                          ...  \n",
       "1955-08-01                       -66.0                         54.0  \n",
       "1955-09-01                       -18.0                         53.0  \n",
       "1955-10-01                        -3.0                         45.0  \n",
       "1955-11-01                         1.0                         34.0  \n",
       "1955-12-01                        78.0                         49.0  \n",
       "\n",
       "[84 rows x 4 columns]"
      ]
     },
     "execution_count": 36,
     "metadata": {},
     "output_type": "execute_result"
    }
   ],
   "source": [
    "train_data"
   ]
  },
  {
   "cell_type": "markdown",
   "id": "38da7962",
   "metadata": {},
   "source": [
    "### Building model ARIMA"
   ]
  },
  {
   "cell_type": "code",
   "execution_count": 68,
   "id": "878a8928",
   "metadata": {},
   "outputs": [
    {
     "name": "stderr",
     "output_type": "stream",
     "text": [
      "C:\\Users\\tp220\\anaconda3\\lib\\site-packages\\statsmodels\\tsa\\base\\tsa_model.py:471: ValueWarning: No frequency information was provided, so inferred frequency MS will be used.\n",
      "  self._init_dates(dates, freq)\n",
      "C:\\Users\\tp220\\anaconda3\\lib\\site-packages\\statsmodels\\tsa\\base\\tsa_model.py:471: ValueWarning: No frequency information was provided, so inferred frequency MS will be used.\n",
      "  self._init_dates(dates, freq)\n",
      "C:\\Users\\tp220\\anaconda3\\lib\\site-packages\\statsmodels\\tsa\\base\\tsa_model.py:471: ValueWarning: No frequency information was provided, so inferred frequency MS will be used.\n",
      "  self._init_dates(dates, freq)\n"
     ]
    }
   ],
   "source": [
    "model_ARIMA=ARIMA(train_data['Thousands of Passengers'],order=(10,2,12))"
   ]
  },
  {
   "cell_type": "code",
   "execution_count": 69,
   "id": "63533251",
   "metadata": {},
   "outputs": [
    {
     "name": "stderr",
     "output_type": "stream",
     "text": [
      "C:\\Users\\tp220\\anaconda3\\lib\\site-packages\\statsmodels\\tsa\\statespace\\sarimax.py:978: UserWarning: Non-invertible starting MA parameters found. Using zeros as starting parameters.\n",
      "  warn('Non-invertible starting MA parameters found.'\n",
      "C:\\Users\\tp220\\anaconda3\\lib\\site-packages\\statsmodels\\base\\model.py:604: ConvergenceWarning: Maximum Likelihood optimization failed to converge. Check mle_retvals\n",
      "  warnings.warn(\"Maximum Likelihood optimization failed to \"\n"
     ]
    }
   ],
   "source": [
    "model_arima_fit=model_ARIMA.fit()"
   ]
  },
  {
   "cell_type": "code",
   "execution_count": 70,
   "id": "3cc02ba1",
   "metadata": {},
   "outputs": [
    {
     "data": {
      "text/html": [
       "<table class=\"simpletable\">\n",
       "<caption>SARIMAX Results</caption>\n",
       "<tr>\n",
       "  <th>Dep. Variable:</th>   <td>Thousands of Passengers</td> <th>  No. Observations:  </th>    <td>84</td>   \n",
       "</tr>\n",
       "<tr>\n",
       "  <th>Model:</th>              <td>ARIMA(10, 2, 12)</td>     <th>  Log Likelihood     </th> <td>-307.735</td>\n",
       "</tr>\n",
       "<tr>\n",
       "  <th>Date:</th>               <td>Sun, 12 Feb 2023</td>     <th>  AIC                </th>  <td>661.470</td>\n",
       "</tr>\n",
       "<tr>\n",
       "  <th>Time:</th>                   <td>15:37:35</td>         <th>  BIC                </th>  <td>716.824</td>\n",
       "</tr>\n",
       "<tr>\n",
       "  <th>Sample:</th>                <td>01-01-1949</td>        <th>  HQIC               </th>  <td>683.694</td>\n",
       "</tr>\n",
       "<tr>\n",
       "  <th></th>                      <td>- 12-01-1955</td>       <th>                     </th>     <td> </td>   \n",
       "</tr>\n",
       "<tr>\n",
       "  <th>Covariance Type:</th>           <td>opg</td>           <th>                     </th>     <td> </td>   \n",
       "</tr>\n",
       "</table>\n",
       "<table class=\"simpletable\">\n",
       "<tr>\n",
       "     <td></td>       <th>coef</th>     <th>std err</th>      <th>z</th>      <th>P>|z|</th>  <th>[0.025</th>    <th>0.975]</th>  \n",
       "</tr>\n",
       "<tr>\n",
       "  <th>ar.L1</th>  <td>    0.0468</td> <td>    0.115</td> <td>    0.408</td> <td> 0.683</td> <td>   -0.178</td> <td>    0.271</td>\n",
       "</tr>\n",
       "<tr>\n",
       "  <th>ar.L2</th>  <td>   -1.0428</td> <td>    0.084</td> <td>  -12.479</td> <td> 0.000</td> <td>   -1.207</td> <td>   -0.879</td>\n",
       "</tr>\n",
       "<tr>\n",
       "  <th>ar.L3</th>  <td>    0.0886</td> <td>    0.139</td> <td>    0.638</td> <td> 0.523</td> <td>   -0.183</td> <td>    0.361</td>\n",
       "</tr>\n",
       "<tr>\n",
       "  <th>ar.L4</th>  <td>   -1.0258</td> <td>    0.131</td> <td>   -7.826</td> <td> 0.000</td> <td>   -1.283</td> <td>   -0.769</td>\n",
       "</tr>\n",
       "<tr>\n",
       "  <th>ar.L5</th>  <td>    0.0658</td> <td>    0.155</td> <td>    0.423</td> <td> 0.672</td> <td>   -0.239</td> <td>    0.370</td>\n",
       "</tr>\n",
       "<tr>\n",
       "  <th>ar.L6</th>  <td>   -0.9861</td> <td>    0.143</td> <td>   -6.882</td> <td> 0.000</td> <td>   -1.267</td> <td>   -0.705</td>\n",
       "</tr>\n",
       "<tr>\n",
       "  <th>ar.L7</th>  <td>    0.0175</td> <td>    0.142</td> <td>    0.123</td> <td> 0.902</td> <td>   -0.261</td> <td>    0.296</td>\n",
       "</tr>\n",
       "<tr>\n",
       "  <th>ar.L8</th>  <td>   -0.9822</td> <td>    0.122</td> <td>   -8.029</td> <td> 0.000</td> <td>   -1.222</td> <td>   -0.742</td>\n",
       "</tr>\n",
       "<tr>\n",
       "  <th>ar.L9</th>  <td>   -0.0069</td> <td>    0.095</td> <td>   -0.073</td> <td> 0.942</td> <td>   -0.193</td> <td>    0.179</td>\n",
       "</tr>\n",
       "<tr>\n",
       "  <th>ar.L10</th> <td>   -0.9389</td> <td>    0.085</td> <td>  -11.095</td> <td> 0.000</td> <td>   -1.105</td> <td>   -0.773</td>\n",
       "</tr>\n",
       "<tr>\n",
       "  <th>ma.L1</th>  <td>   -1.2855</td> <td>    0.254</td> <td>   -5.057</td> <td> 0.000</td> <td>   -1.784</td> <td>   -0.787</td>\n",
       "</tr>\n",
       "<tr>\n",
       "  <th>ma.L2</th>  <td>    1.2393</td> <td>    0.359</td> <td>    3.455</td> <td> 0.001</td> <td>    0.536</td> <td>    1.942</td>\n",
       "</tr>\n",
       "<tr>\n",
       "  <th>ma.L3</th>  <td>   -1.4414</td> <td>    0.437</td> <td>   -3.302</td> <td> 0.001</td> <td>   -2.297</td> <td>   -0.586</td>\n",
       "</tr>\n",
       "<tr>\n",
       "  <th>ma.L4</th>  <td>    1.3761</td> <td>    0.507</td> <td>    2.713</td> <td> 0.007</td> <td>    0.382</td> <td>    2.370</td>\n",
       "</tr>\n",
       "<tr>\n",
       "  <th>ma.L5</th>  <td>   -1.2166</td> <td>    0.575</td> <td>   -2.116</td> <td> 0.034</td> <td>   -2.343</td> <td>   -0.090</td>\n",
       "</tr>\n",
       "<tr>\n",
       "  <th>ma.L6</th>  <td>    1.0831</td> <td>    0.660</td> <td>    1.640</td> <td> 0.101</td> <td>   -0.211</td> <td>    2.378</td>\n",
       "</tr>\n",
       "<tr>\n",
       "  <th>ma.L7</th>  <td>   -1.0701</td> <td>    0.715</td> <td>   -1.497</td> <td> 0.134</td> <td>   -2.471</td> <td>    0.331</td>\n",
       "</tr>\n",
       "<tr>\n",
       "  <th>ma.L8</th>  <td>    0.8860</td> <td>    0.819</td> <td>    1.082</td> <td> 0.279</td> <td>   -0.719</td> <td>    2.491</td>\n",
       "</tr>\n",
       "<tr>\n",
       "  <th>ma.L9</th>  <td>   -0.7851</td> <td>    0.737</td> <td>   -1.066</td> <td> 0.287</td> <td>   -2.229</td> <td>    0.659</td>\n",
       "</tr>\n",
       "<tr>\n",
       "  <th>ma.L10</th> <td>    0.5230</td> <td>    0.601</td> <td>    0.870</td> <td> 0.385</td> <td>   -0.656</td> <td>    1.702</td>\n",
       "</tr>\n",
       "<tr>\n",
       "  <th>ma.L11</th> <td>   -0.4130</td> <td>    0.455</td> <td>   -0.908</td> <td> 0.364</td> <td>   -1.305</td> <td>    0.479</td>\n",
       "</tr>\n",
       "<tr>\n",
       "  <th>ma.L12</th> <td>    0.1336</td> <td>    0.273</td> <td>    0.489</td> <td> 0.625</td> <td>   -0.402</td> <td>    0.669</td>\n",
       "</tr>\n",
       "<tr>\n",
       "  <th>sigma2</th> <td>   77.2668</td> <td>   16.217</td> <td>    4.765</td> <td> 0.000</td> <td>   45.482</td> <td>  109.052</td>\n",
       "</tr>\n",
       "</table>\n",
       "<table class=\"simpletable\">\n",
       "<tr>\n",
       "  <th>Ljung-Box (L1) (Q):</th>     <td>0.00</td> <th>  Jarque-Bera (JB):  </th> <td>4.74</td>\n",
       "</tr>\n",
       "<tr>\n",
       "  <th>Prob(Q):</th>                <td>0.99</td> <th>  Prob(JB):          </th> <td>0.09</td>\n",
       "</tr>\n",
       "<tr>\n",
       "  <th>Heteroskedasticity (H):</th> <td>2.12</td> <th>  Skew:              </th> <td>0.59</td>\n",
       "</tr>\n",
       "<tr>\n",
       "  <th>Prob(H) (two-sided):</th>    <td>0.06</td> <th>  Kurtosis:          </th> <td>2.89</td>\n",
       "</tr>\n",
       "</table><br/><br/>Warnings:<br/>[1] Covariance matrix calculated using the outer product of gradients (complex-step)."
      ],
      "text/plain": [
       "<class 'statsmodels.iolib.summary.Summary'>\n",
       "\"\"\"\n",
       "                                  SARIMAX Results                                  \n",
       "===================================================================================\n",
       "Dep. Variable:     Thousands of Passengers   No. Observations:                   84\n",
       "Model:                    ARIMA(10, 2, 12)   Log Likelihood                -307.735\n",
       "Date:                     Sun, 12 Feb 2023   AIC                            661.470\n",
       "Time:                             15:37:35   BIC                            716.824\n",
       "Sample:                         01-01-1949   HQIC                           683.694\n",
       "                              - 12-01-1955                                         \n",
       "Covariance Type:                       opg                                         \n",
       "==============================================================================\n",
       "                 coef    std err          z      P>|z|      [0.025      0.975]\n",
       "------------------------------------------------------------------------------\n",
       "ar.L1          0.0468      0.115      0.408      0.683      -0.178       0.271\n",
       "ar.L2         -1.0428      0.084    -12.479      0.000      -1.207      -0.879\n",
       "ar.L3          0.0886      0.139      0.638      0.523      -0.183       0.361\n",
       "ar.L4         -1.0258      0.131     -7.826      0.000      -1.283      -0.769\n",
       "ar.L5          0.0658      0.155      0.423      0.672      -0.239       0.370\n",
       "ar.L6         -0.9861      0.143     -6.882      0.000      -1.267      -0.705\n",
       "ar.L7          0.0175      0.142      0.123      0.902      -0.261       0.296\n",
       "ar.L8         -0.9822      0.122     -8.029      0.000      -1.222      -0.742\n",
       "ar.L9         -0.0069      0.095     -0.073      0.942      -0.193       0.179\n",
       "ar.L10        -0.9389      0.085    -11.095      0.000      -1.105      -0.773\n",
       "ma.L1         -1.2855      0.254     -5.057      0.000      -1.784      -0.787\n",
       "ma.L2          1.2393      0.359      3.455      0.001       0.536       1.942\n",
       "ma.L3         -1.4414      0.437     -3.302      0.001      -2.297      -0.586\n",
       "ma.L4          1.3761      0.507      2.713      0.007       0.382       2.370\n",
       "ma.L5         -1.2166      0.575     -2.116      0.034      -2.343      -0.090\n",
       "ma.L6          1.0831      0.660      1.640      0.101      -0.211       2.378\n",
       "ma.L7         -1.0701      0.715     -1.497      0.134      -2.471       0.331\n",
       "ma.L8          0.8860      0.819      1.082      0.279      -0.719       2.491\n",
       "ma.L9         -0.7851      0.737     -1.066      0.287      -2.229       0.659\n",
       "ma.L10         0.5230      0.601      0.870      0.385      -0.656       1.702\n",
       "ma.L11        -0.4130      0.455     -0.908      0.364      -1.305       0.479\n",
       "ma.L12         0.1336      0.273      0.489      0.625      -0.402       0.669\n",
       "sigma2        77.2668     16.217      4.765      0.000      45.482     109.052\n",
       "===================================================================================\n",
       "Ljung-Box (L1) (Q):                   0.00   Jarque-Bera (JB):                 4.74\n",
       "Prob(Q):                              0.99   Prob(JB):                         0.09\n",
       "Heteroskedasticity (H):               2.12   Skew:                             0.59\n",
       "Prob(H) (two-sided):                  0.06   Kurtosis:                         2.89\n",
       "===================================================================================\n",
       "\n",
       "Warnings:\n",
       "[1] Covariance matrix calculated using the outer product of gradients (complex-step).\n",
       "\"\"\""
      ]
     },
     "execution_count": 70,
     "metadata": {},
     "output_type": "execute_result"
    }
   ],
   "source": [
    "model_arima_fit.summary()"
   ]
  },
  {
   "cell_type": "code",
   "execution_count": 71,
   "id": "84151887",
   "metadata": {},
   "outputs": [
    {
     "name": "stdout",
     "output_type": "stream",
     "text": [
      "1956-01-01 00:00:00 \n",
      " 1960-12-01 00:00:00\n"
     ]
    }
   ],
   "source": [
    "## prediction\n",
    "pred_start_date=test_data.index[0]\n",
    "pred_end_date=test_data.index[-1]\n",
    "print(pred_start_date,\"\\n\",pred_end_date)"
   ]
  },
  {
   "cell_type": "code",
   "execution_count": 72,
   "id": "7ed60540",
   "metadata": {},
   "outputs": [],
   "source": [
    "pred=model_arima_fit.predict(start=pred_start_date, end=pred_end_date)\n",
    "residuals=test_data[\"Thousands of Passengers\"]-pred"
   ]
  },
  {
   "cell_type": "code",
   "execution_count": 73,
   "id": "a37f228e",
   "metadata": {},
   "outputs": [
    {
     "data": {
      "text/plain": [
       "1956-01-01    283.242873\n",
       "1956-02-01    269.514103\n",
       "1956-03-01    295.183068\n",
       "1956-04-01    298.588681\n",
       "1956-05-01    299.100478\n",
       "1956-06-01    345.356101\n",
       "1956-07-01    388.482741\n",
       "1956-08-01    371.890016\n",
       "1956-09-01    340.092040\n",
       "1956-10-01    302.900027\n",
       "1956-11-01    271.802394\n",
       "1956-12-01    302.626782\n",
       "1957-01-01    311.075567\n",
       "1957-02-01    293.800687\n",
       "1957-03-01    316.959630\n",
       "1957-04-01    324.515000\n",
       "1957-05-01    326.103582\n",
       "1957-06-01    372.702962\n",
       "1957-07-01    414.550261\n",
       "1957-08-01    396.551830\n",
       "1957-09-01    365.299494\n",
       "1957-10-01    332.225614\n",
       "1957-11-01    302.504951\n",
       "1957-12-01    329.456074\n",
       "1958-01-01    338.538159\n",
       "1958-02-01    318.388093\n",
       "1958-03-01    338.947929\n",
       "1958-04-01    350.515720\n",
       "1958-05-01    353.232374\n",
       "1958-06-01    399.575648\n",
       "1958-07-01    440.481828\n",
       "1958-08-01    421.293814\n",
       "1958-09-01    390.675874\n",
       "1958-10-01    361.579929\n",
       "1958-11-01    333.162860\n",
       "1958-12-01    356.289890\n",
       "1959-01-01    365.685065\n",
       "1959-02-01    343.247274\n",
       "1959-03-01    361.179876\n",
       "1959-04-01    376.550878\n",
       "1959-05-01    380.462612\n",
       "1959-06-01    426.029289\n",
       "1959-07-01    466.255404\n",
       "1959-08-01    446.150483\n",
       "1959-09-01    416.199899\n",
       "1959-10-01    390.945404\n",
       "1959-11-01    363.767756\n",
       "1959-12-01    383.118934\n",
       "1960-01-01    392.563939\n",
       "1960-02-01    368.355159\n",
       "1960-03-01    383.676912\n",
       "1960-04-01    402.590191\n",
       "1960-05-01    407.768270\n",
       "1960-06-01    452.116972\n",
       "1960-07-01    491.855583\n",
       "1960-08-01    471.145192\n",
       "1960-09-01    441.857705\n",
       "1960-10-01    420.300793\n",
       "1960-11-01    394.313965\n",
       "1960-12-01    409.937350\n",
       "Freq: MS, Name: predicted_mean, dtype: float64"
      ]
     },
     "execution_count": 73,
     "metadata": {},
     "output_type": "execute_result"
    }
   ],
   "source": [
    "pred"
   ]
  },
  {
   "cell_type": "code",
   "execution_count": 74,
   "id": "732eea33",
   "metadata": {},
   "outputs": [
    {
     "data": {
      "text/plain": [
       "Month\n",
       "1956-01-01      0.757127\n",
       "1956-02-01      7.485897\n",
       "1956-03-01     21.816932\n",
       "1956-04-01     14.411319\n",
       "1956-05-01     18.899522\n",
       "1956-06-01     28.643899\n",
       "1956-07-01     24.517259\n",
       "1956-08-01     33.109984\n",
       "1956-09-01     14.907960\n",
       "1956-10-01      3.099973\n",
       "1956-11-01     -0.802394\n",
       "1956-12-01      3.373218\n",
       "1957-01-01      3.924433\n",
       "1957-02-01      7.199313\n",
       "1957-03-01     39.040370\n",
       "1957-04-01     23.485000\n",
       "1957-05-01     28.896418\n",
       "1957-06-01     49.297038\n",
       "1957-07-01     50.449739\n",
       "1957-08-01     70.448170\n",
       "1957-09-01     38.700506\n",
       "1957-10-01     14.774386\n",
       "1957-11-01      2.495049\n",
       "1957-12-01      6.543926\n",
       "1958-01-01      1.461841\n",
       "1958-02-01     -0.388093\n",
       "1958-03-01     23.052071\n",
       "1958-04-01     -2.515720\n",
       "1958-05-01      9.767626\n",
       "1958-06-01     35.424352\n",
       "1958-07-01     50.518172\n",
       "1958-08-01     83.706186\n",
       "1958-09-01     13.324126\n",
       "1958-10-01     -2.579929\n",
       "1958-11-01    -23.162860\n",
       "1958-12-01    -19.289890\n",
       "1959-01-01     -5.685065\n",
       "1959-02-01     -1.247274\n",
       "1959-03-01     44.820124\n",
       "1959-04-01     19.449122\n",
       "1959-05-01     39.537388\n",
       "1959-06-01     45.970711\n",
       "1959-07-01     81.744596\n",
       "1959-08-01    112.849517\n",
       "1959-09-01     46.800101\n",
       "1959-10-01     16.054596\n",
       "1959-11-01     -1.767756\n",
       "1959-12-01     21.881066\n",
       "1960-01-01     24.436061\n",
       "1960-02-01     22.644841\n",
       "1960-03-01     35.323088\n",
       "1960-04-01     58.409809\n",
       "1960-05-01     64.231730\n",
       "1960-06-01     82.883028\n",
       "1960-07-01    130.144417\n",
       "1960-08-01    134.854808\n",
       "1960-09-01     66.142295\n",
       "1960-10-01     40.699207\n",
       "1960-11-01     -4.313965\n",
       "1960-12-01     22.062650\n",
       "dtype: float64"
      ]
     },
     "execution_count": 74,
     "metadata": {},
     "output_type": "execute_result"
    }
   ],
   "source": [
    "residuals"
   ]
  },
  {
   "cell_type": "code",
   "execution_count": 75,
   "id": "3a81bf79",
   "metadata": {},
   "outputs": [
    {
     "data": {
      "text/plain": [
       "<AxesSubplot: ylabel='Density'>"
      ]
     },
     "execution_count": 75,
     "metadata": {},
     "output_type": "execute_result"
    },
    {
     "data": {
      "image/png": "[encoded data removed]",
      "text/plain": [
       "<Figure size 432x288 with 1 Axes>"
      ]
     },
     "metadata": {
      "needs_background": "light"
     },
     "output_type": "display_data"
    }
   ],
   "source": [
    "model_arima_fit.resid.plot(kind='kde')"
   ]
  },
  {
   "cell_type": "code",
   "execution_count": 76,
   "id": "3fdd984d",
   "metadata": {},
   "outputs": [
    {
     "name": "stderr",
     "output_type": "stream",
     "text": [
      "C:\\Users\\tp220\\AppData\\Local\\Temp\\ipykernel_67580\\4223836109.py:1: SettingWithCopyWarning: \n",
      "A value is trying to be set on a copy of a slice from a DataFrame.\n",
      "Try using .loc[row_indexer,col_indexer] = value instead\n",
      "\n",
      "See the caveats in the documentation: https://pandas.pydata.org/pandas-docs/stable/user_guide/indexing.html#returning-a-view-versus-a-copy\n",
      "  test_data[\"Predicted_ARIMA\"]=pred\n"
     ]
    }
   ],
   "source": [
    "test_data[\"Predicted_ARIMA\"]=pred"
   ]
  },
  {
   "cell_type": "code",
   "execution_count": 77,
   "id": "de065be4",
   "metadata": {},
   "outputs": [
    {
     "data": {
      "text/plain": [
       "<AxesSubplot: xlabel='Month'>"
      ]
     },
     "execution_count": 77,
     "metadata": {},
     "output_type": "execute_result"
    },
    {
     "data": {
      "image/png": "[encoded data removed]",
      "text/plain": [
       "<Figure size 432x288 with 1 Axes>"
      ]
     },
     "metadata": {
      "needs_background": "light"
     },
     "output_type": "display_data"
    }
   ],
   "source": [
    "test_data[['Thousands of Passengers','Predicted_ARIMA']].plot()"
   ]
  },
  {
   "cell_type": "code",
   "execution_count": 78,
   "id": "2348efb0",
   "metadata": {},
   "outputs": [],
   "source": [
    "### SARIMAX Model"
   ]
  },
  {
   "cell_type": "code",
   "execution_count": 79,
   "id": "e71cac32",
   "metadata": {},
   "outputs": [],
   "source": [
    "from statsmodels.tsa.statespace.sarimax import SARIMAX"
   ]
  },
  {
   "cell_type": "code",
   "execution_count": 99,
   "id": "6d34dcb3",
   "metadata": {},
   "outputs": [
    {
     "name": "stderr",
     "output_type": "stream",
     "text": [
      "C:\\Users\\tp220\\anaconda3\\lib\\site-packages\\statsmodels\\tsa\\base\\tsa_model.py:471: ValueWarning: No frequency information was provided, so inferred frequency MS will be used.\n",
      "  self._init_dates(dates, freq)\n",
      "C:\\Users\\tp220\\anaconda3\\lib\\site-packages\\statsmodels\\tsa\\base\\tsa_model.py:471: ValueWarning: No frequency information was provided, so inferred frequency MS will be used.\n",
      "  self._init_dates(dates, freq)\n"
     ]
    }
   ],
   "source": [
    "model_sarima=SARIMAX(train_data['Thousands of Passengers'],order=(3,0,5),seasonal_order=(0,1,0,12))"
   ]
  },
  {
   "cell_type": "code",
   "execution_count": 100,
   "id": "44f31871",
   "metadata": {},
   "outputs": [
    {
     "name": "stderr",
     "output_type": "stream",
     "text": [
      "C:\\Users\\tp220\\anaconda3\\lib\\site-packages\\statsmodels\\base\\model.py:604: ConvergenceWarning: Maximum Likelihood optimization failed to converge. Check mle_retvals\n",
      "  warnings.warn(\"Maximum Likelihood optimization failed to \"\n"
     ]
    }
   ],
   "source": [
    "model_sarima_fit=model_sarima.fit()"
   ]
  },
  {
   "cell_type": "code",
   "execution_count": 101,
   "id": "0e96506e",
   "metadata": {},
   "outputs": [
    {
     "data": {
      "text/html": [
       "<table class=\"simpletable\">\n",
       "<caption>SARIMAX Results</caption>\n",
       "<tr>\n",
       "  <th>Dep. Variable:</th>       <td>Thousands of Passengers</td>     <th>  No. Observations:  </th>    <td>84</td>   \n",
       "</tr>\n",
       "<tr>\n",
       "  <th>Model:</th>           <td>SARIMAX(3, 0, 5)x(0, 1, [], 12)</td> <th>  Log Likelihood     </th> <td>-265.241</td>\n",
       "</tr>\n",
       "<tr>\n",
       "  <th>Date:</th>                   <td>Sun, 12 Feb 2023</td>         <th>  AIC                </th>  <td>548.481</td>\n",
       "</tr>\n",
       "<tr>\n",
       "  <th>Time:</th>                       <td>15:38:51</td>             <th>  BIC                </th>  <td>568.971</td>\n",
       "</tr>\n",
       "<tr>\n",
       "  <th>Sample:</th>                    <td>01-01-1949</td>            <th>  HQIC               </th>  <td>556.638</td>\n",
       "</tr>\n",
       "<tr>\n",
       "  <th></th>                          <td>- 12-01-1955</td>           <th>                     </th>     <td> </td>   \n",
       "</tr>\n",
       "<tr>\n",
       "  <th>Covariance Type:</th>               <td>opg</td>               <th>                     </th>     <td> </td>   \n",
       "</tr>\n",
       "</table>\n",
       "<table class=\"simpletable\">\n",
       "<tr>\n",
       "     <td></td>       <th>coef</th>     <th>std err</th>      <th>z</th>      <th>P>|z|</th>  <th>[0.025</th>    <th>0.975]</th>  \n",
       "</tr>\n",
       "<tr>\n",
       "  <th>ar.L1</th>  <td>    0.5995</td> <td>    0.939</td> <td>    0.639</td> <td> 0.523</td> <td>   -1.240</td> <td>    2.439</td>\n",
       "</tr>\n",
       "<tr>\n",
       "  <th>ar.L2</th>  <td>    0.8314</td> <td>    0.232</td> <td>    3.577</td> <td> 0.000</td> <td>    0.376</td> <td>    1.287</td>\n",
       "</tr>\n",
       "<tr>\n",
       "  <th>ar.L3</th>  <td>   -0.4539</td> <td>    0.895</td> <td>   -0.507</td> <td> 0.612</td> <td>   -2.208</td> <td>    1.300</td>\n",
       "</tr>\n",
       "<tr>\n",
       "  <th>ma.L1</th>  <td>    0.1825</td> <td>    1.169</td> <td>    0.156</td> <td> 0.876</td> <td>   -2.109</td> <td>    2.474</td>\n",
       "</tr>\n",
       "<tr>\n",
       "  <th>ma.L2</th>  <td>   -0.5355</td> <td>    1.267</td> <td>   -0.422</td> <td> 0.673</td> <td>   -3.020</td> <td>    1.949</td>\n",
       "</tr>\n",
       "<tr>\n",
       "  <th>ma.L3</th>  <td>   -0.0985</td> <td>    0.386</td> <td>   -0.255</td> <td> 0.798</td> <td>   -0.855</td> <td>    0.658</td>\n",
       "</tr>\n",
       "<tr>\n",
       "  <th>ma.L4</th>  <td>   -0.1270</td> <td>    0.339</td> <td>   -0.375</td> <td> 0.708</td> <td>   -0.791</td> <td>    0.537</td>\n",
       "</tr>\n",
       "<tr>\n",
       "  <th>ma.L5</th>  <td>    0.2472</td> <td>    0.358</td> <td>    0.691</td> <td> 0.490</td> <td>   -0.454</td> <td>    0.948</td>\n",
       "</tr>\n",
       "<tr>\n",
       "  <th>sigma2</th> <td>   87.7168</td> <td>   81.578</td> <td>    1.075</td> <td> 0.282</td> <td>  -72.173</td> <td>  247.607</td>\n",
       "</tr>\n",
       "</table>\n",
       "<table class=\"simpletable\">\n",
       "<tr>\n",
       "  <th>Ljung-Box (L1) (Q):</th>     <td>0.02</td> <th>  Jarque-Bera (JB):  </th> <td>2.68</td>\n",
       "</tr>\n",
       "<tr>\n",
       "  <th>Prob(Q):</th>                <td>0.88</td> <th>  Prob(JB):          </th> <td>0.26</td>\n",
       "</tr>\n",
       "<tr>\n",
       "  <th>Heteroskedasticity (H):</th> <td>2.05</td> <th>  Skew:              </th> <td>0.46</td>\n",
       "</tr>\n",
       "<tr>\n",
       "  <th>Prob(H) (two-sided):</th>    <td>0.09</td> <th>  Kurtosis:          </th> <td>2.77</td>\n",
       "</tr>\n",
       "</table><br/><br/>Warnings:<br/>[1] Covariance matrix calculated using the outer product of gradients (complex-step)."
      ],
      "text/plain": [
       "<class 'statsmodels.iolib.summary.Summary'>\n",
       "\"\"\"\n",
       "                                      SARIMAX Results                                      \n",
       "===========================================================================================\n",
       "Dep. Variable:             Thousands of Passengers   No. Observations:                   84\n",
       "Model:             SARIMAX(3, 0, 5)x(0, 1, [], 12)   Log Likelihood                -265.241\n",
       "Date:                             Sun, 12 Feb 2023   AIC                            548.481\n",
       "Time:                                     15:38:51   BIC                            568.971\n",
       "Sample:                                 01-01-1949   HQIC                           556.638\n",
       "                                      - 12-01-1955                                         \n",
       "Covariance Type:                               opg                                         \n",
       "==============================================================================\n",
       "                 coef    std err          z      P>|z|      [0.025      0.975]\n",
       "------------------------------------------------------------------------------\n",
       "ar.L1          0.5995      0.939      0.639      0.523      -1.240       2.439\n",
       "ar.L2          0.8314      0.232      3.577      0.000       0.376       1.287\n",
       "ar.L3         -0.4539      0.895     -0.507      0.612      -2.208       1.300\n",
       "ma.L1          0.1825      1.169      0.156      0.876      -2.109       2.474\n",
       "ma.L2         -0.5355      1.267     -0.422      0.673      -3.020       1.949\n",
       "ma.L3         -0.0985      0.386     -0.255      0.798      -0.855       0.658\n",
       "ma.L4         -0.1270      0.339     -0.375      0.708      -0.791       0.537\n",
       "ma.L5          0.2472      0.358      0.691      0.490      -0.454       0.948\n",
       "sigma2        87.7168     81.578      1.075      0.282     -72.173     247.607\n",
       "===================================================================================\n",
       "Ljung-Box (L1) (Q):                   0.02   Jarque-Bera (JB):                 2.68\n",
       "Prob(Q):                              0.88   Prob(JB):                         0.26\n",
       "Heteroskedasticity (H):               2.05   Skew:                             0.46\n",
       "Prob(H) (two-sided):                  0.09   Kurtosis:                         2.77\n",
       "===================================================================================\n",
       "\n",
       "Warnings:\n",
       "[1] Covariance matrix calculated using the outer product of gradients (complex-step).\n",
       "\"\"\""
      ]
     },
     "execution_count": 101,
     "metadata": {},
     "output_type": "execute_result"
    }
   ],
   "source": [
    "model_sarima_fit.summary()"
   ]
  },
  {
   "cell_type": "code",
   "execution_count": 102,
   "id": "a8886e29",
   "metadata": {},
   "outputs": [],
   "source": [
    "pred=model_sarima_fit.predict(start=pred_start_date, end=pred_end_date)\n",
    "residuals=test_data[\"Thousands of Passengers\"]-pred"
   ]
  },
  {
   "cell_type": "code",
   "execution_count": 103,
   "id": "f7724721",
   "metadata": {},
   "outputs": [
    {
     "data": {
      "text/plain": [
       "1956-01-01    286.191274\n",
       "1956-02-01    281.281153\n",
       "1956-03-01    309.923355\n",
       "1956-04-01    310.684202\n",
       "1956-05-01    311.338679\n",
       "1956-06-01    354.955206\n",
       "1956-07-01    403.400977\n",
       "1956-08-01    385.075366\n",
       "1956-09-01    349.447826\n",
       "1956-10-01    310.221102\n",
       "1956-11-01    272.565637\n",
       "1956-12-01    312.437659\n",
       "1957-01-01    319.964567\n",
       "1957-02-01    314.015901\n",
       "1957-03-01    341.995134\n",
       "1957-04-01    341.796664\n",
       "1957-05-01    341.796239\n",
       "1957-06-01    384.523519\n",
       "1957-07-01    432.327140\n",
       "1957-08-01    413.174521\n",
       "1957-09-01    376.920942\n",
       "1957-10-01    336.922821\n",
       "1957-11-01    298.659801\n",
       "1957-12-01    337.810430\n",
       "1958-01-01    344.749886\n",
       "1958-02-01    338.125060\n",
       "1958-03-01    365.537975\n",
       "1958-04-01    364.704496\n",
       "1958-05-01    364.159463\n",
       "1958-06-01    406.289367\n",
       "1958-07-01    453.570314\n",
       "1958-08-01    433.854901\n",
       "1958-09-01    397.100531\n",
       "1958-10-01    356.571534\n",
       "1958-11-01    317.829355\n",
       "1958-12-01    356.478675\n",
       "1959-01-01    362.960196\n",
       "1959-02-01    355.861549\n",
       "1959-03-01    382.837233\n",
       "1959-04-01    381.555563\n",
       "1959-05-01    380.593401\n",
       "1959-06-01    422.299078\n",
       "1959-07-01    469.182338\n",
       "1959-08-01    449.065152\n",
       "1959-09-01    411.931847\n",
       "1959-10-01    371.022160\n",
       "1959-11-01    331.919081\n",
       "1959-12-01    370.207542\n",
       "1960-01-01    376.345477\n",
       "1960-02-01    368.904651\n",
       "1960-03-01    395.553340\n",
       "1960-04-01    393.947108\n",
       "1960-05-01    392.673827\n",
       "1960-06-01    434.071577\n",
       "1960-07-01    480.658895\n",
       "1960-08-01    460.249503\n",
       "1960-09-01    422.834746\n",
       "1960-10-01    381.647722\n",
       "1960-11-01    342.277018\n",
       "1960-12-01    380.302215\n",
       "Freq: MS, Name: predicted_mean, dtype: float64"
      ]
     },
     "execution_count": 103,
     "metadata": {},
     "output_type": "execute_result"
    }
   ],
   "source": [
    "pred"
   ]
  },
  {
   "cell_type": "code",
   "execution_count": 104,
   "id": "eb9b9d49",
   "metadata": {},
   "outputs": [
    {
     "data": {
      "text/plain": [
       "Month\n",
       "1956-01-01     -2.191274\n",
       "1956-02-01     -4.281153\n",
       "1956-03-01      7.076645\n",
       "1956-04-01      2.315798\n",
       "1956-05-01      6.661321\n",
       "1956-06-01     19.044794\n",
       "1956-07-01      9.599023\n",
       "1956-08-01     19.924634\n",
       "1956-09-01      5.552174\n",
       "1956-10-01     -4.221102\n",
       "1956-11-01     -1.565637\n",
       "1956-12-01     -6.437659\n",
       "1957-01-01     -4.964567\n",
       "1957-02-01    -13.015901\n",
       "1957-03-01     14.004866\n",
       "1957-04-01      6.203336\n",
       "1957-05-01     13.203761\n",
       "1957-06-01     37.476481\n",
       "1957-07-01     32.672860\n",
       "1957-08-01     53.825479\n",
       "1957-09-01     27.079058\n",
       "1957-10-01     10.077179\n",
       "1957-11-01      6.340199\n",
       "1957-12-01     -1.810430\n",
       "1958-01-01     -4.749886\n",
       "1958-02-01    -20.125060\n",
       "1958-03-01     -3.537975\n",
       "1958-04-01    -16.704496\n",
       "1958-05-01     -1.159463\n",
       "1958-06-01     28.710633\n",
       "1958-07-01     37.429686\n",
       "1958-08-01     71.145099\n",
       "1958-09-01      6.899469\n",
       "1958-10-01      2.428466\n",
       "1958-11-01     -7.829355\n",
       "1958-12-01    -19.478675\n",
       "1959-01-01     -2.960196\n",
       "1959-02-01    -13.861549\n",
       "1959-03-01     23.162767\n",
       "1959-04-01     14.444437\n",
       "1959-05-01     39.406599\n",
       "1959-06-01     49.700922\n",
       "1959-07-01     78.817662\n",
       "1959-08-01    109.934848\n",
       "1959-09-01     51.068153\n",
       "1959-10-01     35.977840\n",
       "1959-11-01     30.080919\n",
       "1959-12-01     34.792458\n",
       "1960-01-01     40.654523\n",
       "1960-02-01     22.095349\n",
       "1960-03-01     23.446660\n",
       "1960-04-01     67.052892\n",
       "1960-05-01     79.326173\n",
       "1960-06-01    100.928423\n",
       "1960-07-01    141.341105\n",
       "1960-08-01    145.750497\n",
       "1960-09-01     85.165254\n",
       "1960-10-01     79.352278\n",
       "1960-11-01     47.722982\n",
       "1960-12-01     51.697785\n",
       "dtype: float64"
      ]
     },
     "execution_count": 104,
     "metadata": {},
     "output_type": "execute_result"
    }
   ],
   "source": [
    "residuals\n"
   ]
  },
  {
   "cell_type": "code",
   "execution_count": 105,
   "id": "7262f825",
   "metadata": {},
   "outputs": [
    {
     "data": {
      "text/plain": [
       "<AxesSubplot: ylabel='Density'>"
      ]
     },
     "execution_count": 105,
     "metadata": {},
     "output_type": "execute_result"
    },
    {
     "data": {
      "image/png": "[encoded data removed]",
      "text/plain": [
       "<Figure size 432x288 with 1 Axes>"
      ]
     },
     "metadata": {
      "needs_background": "light"
     },
     "output_type": "display_data"
    }
   ],
   "source": [
    "model_sarima_fit.resid.plot(kind='kde')"
   ]
  },
  {
   "cell_type": "code",
   "execution_count": 106,
   "id": "ca3fd0d3",
   "metadata": {},
   "outputs": [
    {
     "name": "stderr",
     "output_type": "stream",
     "text": [
      "C:\\Users\\tp220\\AppData\\Local\\Temp\\ipykernel_67580\\269689088.py:1: SettingWithCopyWarning: \n",
      "A value is trying to be set on a copy of a slice from a DataFrame.\n",
      "Try using .loc[row_indexer,col_indexer] = value instead\n",
      "\n",
      "See the caveats in the documentation: https://pandas.pydata.org/pandas-docs/stable/user_guide/indexing.html#returning-a-view-versus-a-copy\n",
      "  test_data[\"Predicted_SARIMA\"]=pred\n"
     ]
    }
   ],
   "source": [
    "test_data[\"Predicted_SARIMA\"]=pred"
   ]
  },
  {
   "cell_type": "code",
   "execution_count": null,
   "id": "e0ea5714",
   "metadata": {},
   "outputs": [],
   "source": []
  },
  {
   "cell_type": "code",
   "execution_count": 107,
   "id": "281d18ee",
   "metadata": {},
   "outputs": [
    {
     "data": {
      "text/plain": [
       "<AxesSubplot: xlabel='Month'>"
      ]
     },
     "execution_count": 107,
     "metadata": {},
     "output_type": "execute_result"
    },
    {
     "data": {
      "image/png": "[encoded data removed]",
      "text/plain": [
       "<Figure size 432x288 with 1 Axes>"
      ]
     },
     "metadata": {
      "needs_background": "light"
     },
     "output_type": "display_data"
    }
   ],
   "source": [
    "test_data[['Thousands of Passengers','Predicted_SARIMA','Predicted_ARIMA']].plot()"
   ]
  },
  {
   "cell_type": "markdown",
   "id": "8c92fad5",
   "metadata": {},
   "source": [
    "here, we can see Sarima working slightly better than arima in seasonal data"
   ]
  },
  {
   "cell_type": "markdown",
   "id": "e4c4f43f",
   "metadata": {},
   "source": [
    "#### prediction made on some new data using model_sarima_fit"
   ]
  },
  {
   "cell_type": "code",
   "execution_count": 110,
   "id": "5d9d0974",
   "metadata": {},
   "outputs": [
    {
     "data": {
      "text/plain": [
       "1989-01-01    413.502806\n",
       "1989-02-01    405.120408\n",
       "1989-03-01    430.853710\n",
       "1989-04-01    428.353148\n",
       "1989-05-01    426.210057\n",
       "1989-06-01    466.758318\n",
       "1989-07-01    512.519159\n",
       "1989-08-01    491.302849\n",
       "1989-09-01    453.102809\n",
       "1989-10-01    411.149288\n",
       "1989-11-01    371.032458\n",
       "1989-12-01    408.329539\n",
       "1990-01-01    413.504122\n",
       "1990-02-01    405.121690\n",
       "1990-03-01    430.854960\n",
       "1990-04-01    428.354366\n",
       "1990-05-01    426.211244\n",
       "1990-06-01    466.759475\n",
       "1990-07-01    512.520287\n",
       "1990-08-01    491.303948\n",
       "1990-09-01    453.103881\n",
       "1990-10-01    411.150332\n",
       "1990-11-01    371.033476\n",
       "1990-12-01    408.330531\n",
       "1991-01-01    413.505089\n",
       "1991-02-01    405.122633\n",
       "1991-03-01    430.855879\n",
       "1991-04-01    428.355261\n",
       "1991-05-01    426.212117\n",
       "1991-06-01    466.760326\n",
       "1991-07-01    512.521116\n",
       "1991-08-01    491.304757\n",
       "1991-09-01    453.104669\n",
       "1991-10-01    411.151100\n",
       "1991-11-01    371.034224\n",
       "1991-12-01    408.331260\n",
       "1992-01-01    413.505800\n",
       "1992-02-01    405.123326\n",
       "1992-03-01    430.856554\n",
       "1992-04-01    428.355919\n",
       "1992-05-01    426.212759\n",
       "1992-06-01    466.760951\n",
       "1992-07-01    512.521725\n",
       "1992-08-01    491.305351\n",
       "1992-09-01    453.105248\n",
       "1992-10-01    411.151665\n",
       "1992-11-01    371.034774\n",
       "1992-12-01    408.331797\n",
       "1993-01-01    413.506323\n",
       "Freq: MS, Name: predicted_mean, dtype: float64"
      ]
     },
     "execution_count": 110,
     "metadata": {},
     "output_type": "execute_result"
    }
   ],
   "source": [
    "model_sarima_fit.predict(start=\"1989,01,01\",end=\"1993,01,01\")"
   ]
  },
  {
   "cell_type": "markdown",
   "id": "b6df13ae",
   "metadata": {},
   "source": []
  }
 ],
 "metadata": {
  "kernelspec": {
   "display_name": "Python 3 (ipykernel)",
   "language": "python",
   "name": "python3"
  },
  "language_info": {
   "codemirror_mode": {
    "name": "ipython",
    "version": 3
   },
   "file_extension": ".py",
   "mimetype": "text/x-python",
   "name": "python",
   "nbconvert_exporter": "python",
   "pygments_lexer": "ipython3",
   "version": "3.9.12"
  }
 },
 "nbformat": 4,
 "nbformat_minor": 5
}
